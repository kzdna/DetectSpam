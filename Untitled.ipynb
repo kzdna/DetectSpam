{
 "cells": [
  {
   "cell_type": "code",
   "execution_count": 1,
   "id": "9d7a0906-15c7-4769-916f-f8207f427478",
   "metadata": {},
   "outputs": [
    {
     "name": "stdout",
     "output_type": "stream",
     "text": [
      "C:\\xampp\\htdocs\\DetectSpam\n",
      "['.ipynb_checkpoints', '.vscode', 'app.py', 'readme', 'spam.csv', 'static', 'svm_spam_model.pkl', 'templates', 'test_model.py', 'tfidf_vectorizer.pkl', 'train_model.py', 'Untitled.ipynb']\n"
     ]
    }
   ],
   "source": [
    "import os\n",
    "print(os.getcwd())  \n",
    "print(os.listdir())"
   ]
  },
  {
   "cell_type": "code",
   "execution_count": 2,
   "id": "5aebf25e-b577-49a8-8629-f967f7e78716",
   "metadata": {},
   "outputs": [
    {
     "name": "stdout",
     "output_type": "stream",
     "text": [
      "      0                                                  1\n",
      "0   ham  Go until jurong point, crazy.. Available only ...\n",
      "1   ham                      Ok lar... Joking wif u oni...\n",
      "2  spam  Free entry in 2 a wkly comp to win FA Cup fina...\n",
      "3   ham  U dun say so early hor... U c already then say...\n",
      "4   ham  Nah I don't think he goes to usf, he lives aro...\n"
     ]
    }
   ],
   "source": [
    "import pandas as pd\n",
    "\n",
    "df = pd.read_csv(\"spam.csv\", encoding=\"utf-8\", sep=\"\\t\", header=None)\n",
    "print(df.head()) "
   ]
  },
  {
   "cell_type": "code",
   "execution_count": 3,
   "id": "20b853ce-0eb8-4f39-a1af-990876c58924",
   "metadata": {},
   "outputs": [
    {
     "name": "stdout",
     "output_type": "stream",
     "text": [
      "   Label                                            Message\n",
      "0      0  go until jurong point, crazy.. available only ...\n",
      "1      0                      ok lar... joking wif u oni...\n",
      "2      1  free entry in 2 a wkly comp to win fa cup fina...\n",
      "3      0  u dun say so early hor... u c already then say...\n",
      "4      0  nah i don't think he goes to usf, he lives aro...\n",
      "Label\n",
      "0    4516\n",
      "1     653\n",
      "Name: count, dtype: int64\n"
     ]
    }
   ],
   "source": [
    "df.columns = [\"Label\", \"Message\"]\n",
    "\n",
    "df[\"Label\"] = df[\"Label\"].map({\"ham\": 0, \"spam\": 1})\n",
    "\n",
    "df = df.drop_duplicates()\n",
    "df[\"Message\"] = df[\"Message\"].str.lower().str.strip()\n",
    "\n",
    "print(df.head())\n",
    "print(df[\"Label\"].value_counts())  \n"
   ]
  },
  {
   "cell_type": "code",
   "execution_count": 4,
   "id": "58a5cef6-73eb-41cd-b426-b12dd93288a6",
   "metadata": {},
   "outputs": [
    {
     "name": "stdout",
     "output_type": "stream",
     "text": [
      "TF-IDF berhasil dibuat!\n"
     ]
    }
   ],
   "source": [
    "from sklearn.feature_extraction.text import TfidfVectorizer\n",
    "from sklearn.model_selection import train_test_split\n",
    "\n",
    "X = df[\"Message\"]\n",
    "y = df[\"Label\"]\n",
    "\n",
    "X_train, X_test, y_train, y_test = train_test_split(X, y, test_size=0.2, random_state=42)\n",
    "\n",
    "vectorizer = TfidfVectorizer()\n",
    "X_train_tfidf = vectorizer.fit_transform(X_train)\n",
    "X_test_tfidf = vectorizer.transform(X_test)\n",
    "\n",
    "print(\"TF-IDF berhasil dibuat!\")\n"
   ]
  },
  {
   "cell_type": "code",
   "execution_count": 5,
   "id": "18becb23-73a2-47c3-9794-9af78c416a90",
   "metadata": {},
   "outputs": [
    {
     "name": "stdout",
     "output_type": "stream",
     "text": [
      "Akurasi Model: 0.9845\n",
      "Laporan Klasifikasi:\n",
      "              precision    recall  f1-score   support\n",
      "\n",
      "           0       0.99      1.00      0.99       894\n",
      "           1       0.97      0.91      0.94       140\n",
      "\n",
      "    accuracy                           0.98      1034\n",
      "   macro avg       0.98      0.95      0.97      1034\n",
      "weighted avg       0.98      0.98      0.98      1034\n",
      "\n"
     ]
    }
   ],
   "source": [
    "from sklearn.svm import SVC\n",
    "from sklearn.metrics import accuracy_score, classification_report\n",
    "\n",
    "svm_model = SVC(kernel=\"linear\")\n",
    "\n",
    "svm_model.fit(X_train_tfidf, y_train)\n",
    "\n",
    "y_pred = svm_model.predict(X_test_tfidf)\n",
    "\n",
    "accuracy = accuracy_score(y_test, y_pred)\n",
    "print(f\"Akurasi Model: {accuracy:.4f}\")\n",
    "\n",
    "print(\"Laporan Klasifikasi:\")\n",
    "print(classification_report(y_test, y_pred))\n"
   ]
  },
  {
   "cell_type": "code",
   "execution_count": 6,
   "id": "91755a26-77bc-42e5-860a-7214e03c7081",
   "metadata": {},
   "outputs": [
    {
     "name": "stdout",
     "output_type": "stream",
     "text": [
      "Model & Vectorizer berhasil disimpan!\n"
     ]
    }
   ],
   "source": [
    "import joblib\n",
    "\n",
    "joblib.dump(svm_model, \"svm_spam_model.pkl\")\n",
    "\n",
    "joblib.dump(vectorizer, \"tfidf_vectorizer.pkl\")\n",
    "\n",
    "print(\"Model & Vectorizer berhasil disimpan!\")\n"
   ]
  },
  {
   "cell_type": "code",
   "execution_count": 7,
   "id": "7bbf009b-2318-4536-9cf8-7a26711bc4a3",
   "metadata": {},
   "outputs": [
    {
     "name": "stdout",
     "output_type": "stream",
     "text": [
      "Hasil Prediksi: SPAM\n"
     ]
    }
   ],
   "source": [
    "import joblib\n",
    "\n",
    "model = joblib.load(\"svm_spam_model.pkl\")\n",
    "vectorizer = joblib.load(\"tfidf_vectorizer.pkl\")\n",
    "\n",
    "test_message = [\"Free entry in 2 a wkly comp to win FA Cup final tkts 21st May 2005. Text FA to 87121 to receive entry question(std txt rate)T&C's apply 08452810075over18's\"]\n",
    "\n",
    "test_vectorized = vectorizer.transform(test_message)\n",
    "\n",
    "result = model.predict(test_vectorized)[0]\n",
    "\n",
    "print(\"Hasil Prediksi:\", \"SPAM\" if result == 1 else \"HAM (Bukan Spam)\")\n"
   ]
  },
  {
   "cell_type": "code",
   "execution_count": null,
   "id": "64fbc133-5c0a-4e95-9a21-2547a41cde9b",
   "metadata": {},
   "outputs": [],
   "source": []
  }
 ],
 "metadata": {
  "kernelspec": {
   "display_name": "Python 3 (ipykernel)",
   "language": "python",
   "name": "python3"
  },
  "language_info": {
   "codemirror_mode": {
    "name": "ipython",
    "version": 3
   },
   "file_extension": ".py",
   "mimetype": "text/x-python",
   "name": "python",
   "nbconvert_exporter": "python",
   "pygments_lexer": "ipython3",
   "version": "3.13.2"
  }
 },
 "nbformat": 4,
 "nbformat_minor": 5
}
